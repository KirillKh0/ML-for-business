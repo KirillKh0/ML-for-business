{
 "cells": [
  {
   "cell_type": "markdown",
   "metadata": {},
   "source": [
    "# Выбор локации для скважины"
   ]
  },
  {
   "cell_type": "markdown",
   "metadata": {},
   "source": [
    "Допустим, вы работаете в добывающей компании «ГлавРосГосНефть». Нужно решить, где бурить новую скважину.\n",
    "\n",
    "Вам предоставлены пробы нефти в трёх регионах: в каждом 10 000 месторождений, где измерили качество нефти и объём её запасов. Постройте модель машинного обучения, которая поможет определить регион, где добыча принесёт наибольшую прибыль. Проанализируйте возможную прибыль и риски техникой *Bootstrap.*\n",
    "\n",
    "Шаги для выбора локации:\n",
    "\n",
    "- В избранном регионе ищут месторождения, для каждого определяют значения признаков;\n",
    "- Строят модель и оценивают объём запасов;\n",
    "- Выбирают месторождения с самым высокими оценками значений. Количество месторождений зависит от бюджета компании и стоимости разработки одной скважины;\n",
    "- Прибыль равна суммарной прибыли отобранных месторождений."
   ]
  },
  {
   "cell_type": "code",
   "execution_count": 1,
   "metadata": {},
   "outputs": [],
   "source": [
    "import pandas as pd\n",
    "import numpy as np\n",
    "import matplotlib.pyplot as plt \n",
    "import itertools\n",
    "from sklearn.model_selection import train_test_split\n",
    "from sklearn.linear_model import LinearRegression\n",
    "from sklearn.pipeline import make_pipeline\n",
    "from sklearn.preprocessing import StandardScaler\n",
    "from sklearn.metrics import mean_squared_error\n",
    "\n",
    "RANDOM = 12345\n",
    "state = np.random.RandomState(RANDOM) "
   ]
  },
  {
   "cell_type": "markdown",
   "metadata": {},
   "source": [
    "## Загрузка и подготовка данных"
   ]
  },
  {
   "cell_type": "code",
   "execution_count": 2,
   "metadata": {},
   "outputs": [],
   "source": [
    "df_0 = pd.read_csv('/datasets/geo_data_0.csv')\n",
    "df_1 = pd.read_csv('/datasets/geo_data_1.csv')\n",
    "df_2 = pd.read_csv('/datasets/geo_data_2.csv')"
   ]
  },
  {
   "cell_type": "code",
   "execution_count": 3,
   "metadata": {},
   "outputs": [
    {
     "name": "stdout",
     "output_type": "stream",
     "text": [
      "<class 'pandas.core.frame.DataFrame'>\n",
      "RangeIndex: 100000 entries, 0 to 99999\n",
      "Data columns (total 5 columns):\n",
      " #   Column   Non-Null Count   Dtype  \n",
      "---  ------   --------------   -----  \n",
      " 0   id       100000 non-null  object \n",
      " 1   f0       100000 non-null  float64\n",
      " 2   f1       100000 non-null  float64\n",
      " 3   f2       100000 non-null  float64\n",
      " 4   product  100000 non-null  float64\n",
      "dtypes: float64(4), object(1)\n",
      "memory usage: 3.8+ MB\n"
     ]
    }
   ],
   "source": [
    "df_0.info()"
   ]
  },
  {
   "cell_type": "code",
   "execution_count": 4,
   "metadata": {},
   "outputs": [
    {
     "name": "stdout",
     "output_type": "stream",
     "text": [
      "<class 'pandas.core.frame.DataFrame'>\n",
      "RangeIndex: 100000 entries, 0 to 99999\n",
      "Data columns (total 5 columns):\n",
      " #   Column   Non-Null Count   Dtype  \n",
      "---  ------   --------------   -----  \n",
      " 0   id       100000 non-null  object \n",
      " 1   f0       100000 non-null  float64\n",
      " 2   f1       100000 non-null  float64\n",
      " 3   f2       100000 non-null  float64\n",
      " 4   product  100000 non-null  float64\n",
      "dtypes: float64(4), object(1)\n",
      "memory usage: 3.8+ MB\n"
     ]
    }
   ],
   "source": [
    "df_1.info()"
   ]
  },
  {
   "cell_type": "code",
   "execution_count": 5,
   "metadata": {},
   "outputs": [
    {
     "name": "stdout",
     "output_type": "stream",
     "text": [
      "<class 'pandas.core.frame.DataFrame'>\n",
      "RangeIndex: 100000 entries, 0 to 99999\n",
      "Data columns (total 5 columns):\n",
      " #   Column   Non-Null Count   Dtype  \n",
      "---  ------   --------------   -----  \n",
      " 0   id       100000 non-null  object \n",
      " 1   f0       100000 non-null  float64\n",
      " 2   f1       100000 non-null  float64\n",
      " 3   f2       100000 non-null  float64\n",
      " 4   product  100000 non-null  float64\n",
      "dtypes: float64(4), object(1)\n",
      "memory usage: 3.8+ MB\n"
     ]
    }
   ],
   "source": [
    "df_2.info()"
   ]
  },
  {
   "cell_type": "code",
   "execution_count": 6,
   "metadata": {},
   "outputs": [
    {
     "data": {
      "text/html": [
       "<div>\n",
       "<style scoped>\n",
       "    .dataframe tbody tr th:only-of-type {\n",
       "        vertical-align: middle;\n",
       "    }\n",
       "\n",
       "    .dataframe tbody tr th {\n",
       "        vertical-align: top;\n",
       "    }\n",
       "\n",
       "    .dataframe thead th {\n",
       "        text-align: right;\n",
       "    }\n",
       "</style>\n",
       "<table border=\"1\" class=\"dataframe\">\n",
       "  <thead>\n",
       "    <tr style=\"text-align: right;\">\n",
       "      <th></th>\n",
       "      <th>id</th>\n",
       "      <th>f0</th>\n",
       "      <th>f1</th>\n",
       "      <th>f2</th>\n",
       "      <th>product</th>\n",
       "    </tr>\n",
       "  </thead>\n",
       "  <tbody>\n",
       "    <tr>\n",
       "      <th>0</th>\n",
       "      <td>txEyH</td>\n",
       "      <td>0.705745</td>\n",
       "      <td>-0.497823</td>\n",
       "      <td>1.221170</td>\n",
       "      <td>105.280062</td>\n",
       "    </tr>\n",
       "    <tr>\n",
       "      <th>1</th>\n",
       "      <td>2acmU</td>\n",
       "      <td>1.334711</td>\n",
       "      <td>-0.340164</td>\n",
       "      <td>4.365080</td>\n",
       "      <td>73.037750</td>\n",
       "    </tr>\n",
       "    <tr>\n",
       "      <th>2</th>\n",
       "      <td>409Wp</td>\n",
       "      <td>1.022732</td>\n",
       "      <td>0.151990</td>\n",
       "      <td>1.419926</td>\n",
       "      <td>85.265647</td>\n",
       "    </tr>\n",
       "    <tr>\n",
       "      <th>3</th>\n",
       "      <td>iJLyR</td>\n",
       "      <td>-0.032172</td>\n",
       "      <td>0.139033</td>\n",
       "      <td>2.978566</td>\n",
       "      <td>168.620776</td>\n",
       "    </tr>\n",
       "    <tr>\n",
       "      <th>4</th>\n",
       "      <td>Xdl7t</td>\n",
       "      <td>1.988431</td>\n",
       "      <td>0.155413</td>\n",
       "      <td>4.751769</td>\n",
       "      <td>154.036647</td>\n",
       "    </tr>\n",
       "  </tbody>\n",
       "</table>\n",
       "</div>"
      ],
      "text/plain": [
       "      id        f0        f1        f2     product\n",
       "0  txEyH  0.705745 -0.497823  1.221170  105.280062\n",
       "1  2acmU  1.334711 -0.340164  4.365080   73.037750\n",
       "2  409Wp  1.022732  0.151990  1.419926   85.265647\n",
       "3  iJLyR -0.032172  0.139033  2.978566  168.620776\n",
       "4  Xdl7t  1.988431  0.155413  4.751769  154.036647"
      ]
     },
     "execution_count": 6,
     "metadata": {},
     "output_type": "execute_result"
    }
   ],
   "source": [
    "df_0.head()"
   ]
  },
  {
   "cell_type": "code",
   "execution_count": 7,
   "metadata": {},
   "outputs": [
    {
     "data": {
      "text/html": [
       "<div>\n",
       "<style scoped>\n",
       "    .dataframe tbody tr th:only-of-type {\n",
       "        vertical-align: middle;\n",
       "    }\n",
       "\n",
       "    .dataframe tbody tr th {\n",
       "        vertical-align: top;\n",
       "    }\n",
       "\n",
       "    .dataframe thead th {\n",
       "        text-align: right;\n",
       "    }\n",
       "</style>\n",
       "<table border=\"1\" class=\"dataframe\">\n",
       "  <thead>\n",
       "    <tr style=\"text-align: right;\">\n",
       "      <th></th>\n",
       "      <th>id</th>\n",
       "      <th>f0</th>\n",
       "      <th>f1</th>\n",
       "      <th>f2</th>\n",
       "      <th>product</th>\n",
       "    </tr>\n",
       "  </thead>\n",
       "  <tbody>\n",
       "    <tr>\n",
       "      <th>0</th>\n",
       "      <td>kBEdx</td>\n",
       "      <td>-15.001348</td>\n",
       "      <td>-8.276000</td>\n",
       "      <td>-0.005876</td>\n",
       "      <td>3.179103</td>\n",
       "    </tr>\n",
       "    <tr>\n",
       "      <th>1</th>\n",
       "      <td>62mP7</td>\n",
       "      <td>14.272088</td>\n",
       "      <td>-3.475083</td>\n",
       "      <td>0.999183</td>\n",
       "      <td>26.953261</td>\n",
       "    </tr>\n",
       "    <tr>\n",
       "      <th>2</th>\n",
       "      <td>vyE1P</td>\n",
       "      <td>6.263187</td>\n",
       "      <td>-5.948386</td>\n",
       "      <td>5.001160</td>\n",
       "      <td>134.766305</td>\n",
       "    </tr>\n",
       "    <tr>\n",
       "      <th>3</th>\n",
       "      <td>KcrkZ</td>\n",
       "      <td>-13.081196</td>\n",
       "      <td>-11.506057</td>\n",
       "      <td>4.999415</td>\n",
       "      <td>137.945408</td>\n",
       "    </tr>\n",
       "    <tr>\n",
       "      <th>4</th>\n",
       "      <td>AHL4O</td>\n",
       "      <td>12.702195</td>\n",
       "      <td>-8.147433</td>\n",
       "      <td>5.004363</td>\n",
       "      <td>134.766305</td>\n",
       "    </tr>\n",
       "  </tbody>\n",
       "</table>\n",
       "</div>"
      ],
      "text/plain": [
       "      id         f0         f1        f2     product\n",
       "0  kBEdx -15.001348  -8.276000 -0.005876    3.179103\n",
       "1  62mP7  14.272088  -3.475083  0.999183   26.953261\n",
       "2  vyE1P   6.263187  -5.948386  5.001160  134.766305\n",
       "3  KcrkZ -13.081196 -11.506057  4.999415  137.945408\n",
       "4  AHL4O  12.702195  -8.147433  5.004363  134.766305"
      ]
     },
     "execution_count": 7,
     "metadata": {},
     "output_type": "execute_result"
    }
   ],
   "source": [
    "df_1.head()"
   ]
  },
  {
   "cell_type": "code",
   "execution_count": 8,
   "metadata": {
    "scrolled": true
   },
   "outputs": [
    {
     "data": {
      "text/html": [
       "<div>\n",
       "<style scoped>\n",
       "    .dataframe tbody tr th:only-of-type {\n",
       "        vertical-align: middle;\n",
       "    }\n",
       "\n",
       "    .dataframe tbody tr th {\n",
       "        vertical-align: top;\n",
       "    }\n",
       "\n",
       "    .dataframe thead th {\n",
       "        text-align: right;\n",
       "    }\n",
       "</style>\n",
       "<table border=\"1\" class=\"dataframe\">\n",
       "  <thead>\n",
       "    <tr style=\"text-align: right;\">\n",
       "      <th></th>\n",
       "      <th>id</th>\n",
       "      <th>f0</th>\n",
       "      <th>f1</th>\n",
       "      <th>f2</th>\n",
       "      <th>product</th>\n",
       "    </tr>\n",
       "  </thead>\n",
       "  <tbody>\n",
       "    <tr>\n",
       "      <th>0</th>\n",
       "      <td>fwXo0</td>\n",
       "      <td>-1.146987</td>\n",
       "      <td>0.963328</td>\n",
       "      <td>-0.828965</td>\n",
       "      <td>27.758673</td>\n",
       "    </tr>\n",
       "    <tr>\n",
       "      <th>1</th>\n",
       "      <td>WJtFt</td>\n",
       "      <td>0.262778</td>\n",
       "      <td>0.269839</td>\n",
       "      <td>-2.530187</td>\n",
       "      <td>56.069697</td>\n",
       "    </tr>\n",
       "    <tr>\n",
       "      <th>2</th>\n",
       "      <td>ovLUW</td>\n",
       "      <td>0.194587</td>\n",
       "      <td>0.289035</td>\n",
       "      <td>-5.586433</td>\n",
       "      <td>62.871910</td>\n",
       "    </tr>\n",
       "    <tr>\n",
       "      <th>3</th>\n",
       "      <td>q6cA6</td>\n",
       "      <td>2.236060</td>\n",
       "      <td>-0.553760</td>\n",
       "      <td>0.930038</td>\n",
       "      <td>114.572842</td>\n",
       "    </tr>\n",
       "    <tr>\n",
       "      <th>4</th>\n",
       "      <td>WPMUX</td>\n",
       "      <td>-0.515993</td>\n",
       "      <td>1.716266</td>\n",
       "      <td>5.899011</td>\n",
       "      <td>149.600746</td>\n",
       "    </tr>\n",
       "  </tbody>\n",
       "</table>\n",
       "</div>"
      ],
      "text/plain": [
       "      id        f0        f1        f2     product\n",
       "0  fwXo0 -1.146987  0.963328 -0.828965   27.758673\n",
       "1  WJtFt  0.262778  0.269839 -2.530187   56.069697\n",
       "2  ovLUW  0.194587  0.289035 -5.586433   62.871910\n",
       "3  q6cA6  2.236060 -0.553760  0.930038  114.572842\n",
       "4  WPMUX -0.515993  1.716266  5.899011  149.600746"
      ]
     },
     "execution_count": 8,
     "metadata": {},
     "output_type": "execute_result"
    }
   ],
   "source": [
    "df_2.head()"
   ]
  },
  {
   "cell_type": "code",
   "execution_count": 9,
   "metadata": {
    "scrolled": true
   },
   "outputs": [
    {
     "data": {
      "image/png": "[encoded data removed]",
      "text/plain": [
       "<Figure size 1440x1080 with 12 Axes>"
      ]
     },
     "metadata": {
      "needs_background": "light"
     },
     "output_type": "display_data"
    }
   ],
   "source": [
    "fig,ax = plt.subplots(3,4,figsize = (20,15))\n",
    "\n",
    "all_frames = [\"df_0\",\"df_1\",\"df_2\"]\n",
    "num_columns = df_0.columns[1:]\n",
    "num_columns_with_columns = zip(df_0.columns[1:],range(4))\n",
    "all_frames_with_rows = zip([df_0,df_1,df_2],range(3))\n",
    "\n",
    "for column in list(itertools.product(all_frames_with_rows,num_columns_with_columns)):\n",
    "    ax[column[0][1]][column[1][1]].boxplot(column[0][0][column[1][0]])\n",
    "    \n",
    "for row in range(3):\n",
    "    ax[row][0].set_ylabel(all_frames[row])\n",
    "    \n",
    "for column in range(4):\n",
    "    ax[0][column].set_title(num_columns[column])"
   ]
  },
  {
   "cell_type": "markdown",
   "metadata": {},
   "source": [
    "В данных видны вбросы, поэтому удалим их, а именно в <br>df_0 : f2<br>df_1 : f1<br>df_2 : f1, f2, f3"
   ]
  },
  {
   "cell_type": "code",
   "execution_count": 10,
   "metadata": {},
   "outputs": [],
   "source": [
    "def del_noise(df, column):\n",
    "    qu75 = np.array(df[column].quantile(0.75))\n",
    "    qu25 = np.array(df[column].quantile(0.25))\n",
    "    \n",
    "    top = qu75 + 1.5 * (qu75 - qu25)\n",
    "    botton = qu25 - 1.5 * (qu75 - qu25)\n",
    "    \n",
    "    index_noise = []\n",
    "    \n",
    "    for i in range(len(df[column])):\n",
    "        if df[column][i] >= top or df[column][i] <= botton:\n",
    "            index_noise.append(i)\n",
    "            \n",
    "    return index_noise"
   ]
  },
  {
   "cell_type": "code",
   "execution_count": 11,
   "metadata": {},
   "outputs": [],
   "source": [
    "list_index_noise = []\n",
    "res_set = set()\n",
    "for df in [df_0, df_1, df_2]:\n",
    "    for column in ['f0', 'f1', 'f2']:\n",
    "        res_set = res_set.union(set(del_noise(df, column)))\n",
    "    res = list(res_set)\n",
    "    res.sort()\n",
    "    list_index_noise.append(res)"
   ]
  },
  {
   "cell_type": "code",
   "execution_count": 12,
   "metadata": {},
   "outputs": [
    {
     "name": "stdout",
     "output_type": "stream",
     "text": [
      "Доля строк для удаления в df_0 : 0.506\n",
      "Доля строк для удаления в df_1 : 1.141\n",
      "Доля строк для удаления в df_2 : 3.118\n"
     ]
    }
   ],
   "source": [
    "print('Доля строк для удаления в df_0 :', len(list_index_noise[0]) / df_0.shape[0] * 100)\n",
    "print('Доля строк для удаления в df_1 :', len(list_index_noise[1]) / df_1.shape[0] * 100)\n",
    "print('Доля строк для удаления в df_2 :', len(list_index_noise[2]) / df_2.shape[0] * 100)"
   ]
  },
  {
   "cell_type": "markdown",
   "metadata": {},
   "source": [
    "Строки с вбросами можно смело уюрать, потому что они составлют малую часть от всех данных, меньше 4 процентов"
   ]
  },
  {
   "cell_type": "code",
   "execution_count": 13,
   "metadata": {},
   "outputs": [],
   "source": [
    "for df, indexes in zip([df_0, df_1, df_2], list_index_noise):\n",
    "    df.drop(indexes, axis=0, inplace=True)\n",
    "    df = df.reset_index(drop=True)"
   ]
  },
  {
   "cell_type": "markdown",
   "metadata": {},
   "source": [
    "Данные очищенны от вбросов"
   ]
  },
  {
   "cell_type": "markdown",
   "metadata": {},
   "source": [
    "## Обучение и проверка модели"
   ]
  },
  {
   "cell_type": "code",
   "execution_count": 14,
   "metadata": {},
   "outputs": [],
   "source": [
    "array_name = [0, 1, 2]\n",
    "array_frame = [df_0, df_1, df_2]\n",
    "\n",
    "data_dict = {\"pipelines\":{},\"scores\":{},\"valid\":{}}\n",
    "\n",
    "for frame, name in zip(array_frame,array_name):\n",
    "    \n",
    "    features = frame.drop([\"id\",\"product\"], axis = 1)\n",
    "    target = frame[\"product\"]\n",
    "    \n",
    "    new_pipeline = make_pipeline(StandardScaler(),LinearRegression())\n",
    "    \n",
    "    features_train, features_valid, target_train, target_valid = train_test_split(\n",
    "        features,\n",
    "        target,\n",
    "        test_size = 0.25,\n",
    "        random_state = RANDOM\n",
    "    )\n",
    "    \n",
    "    data_dict['valid'][name] = (features_valid,target_valid)\n",
    "    new_pipeline.fit(features_train,target_train)\n",
    "    \n",
    "    data_dict['pipelines'][name] = new_pipeline\n",
    "    \n",
    "    data_dict['scores'][name] = mean_squared_error(\n",
    "        target_valid,\n",
    "        new_pipeline.predict(features_valid)\n",
    "    )**0.5"
   ]
  },
  {
   "cell_type": "code",
   "execution_count": 15,
   "metadata": {
    "scrolled": true
   },
   "outputs": [
    {
     "name": "stdout",
     "output_type": "stream",
     "text": [
      "Среднее df_0 : 92.72476770114889\n",
      "RMSE модели df_0 : 37.922930890531454\n",
      "\n",
      "Среднее df_1 : 68.61540950379367\n",
      "RMSE модели df_1 : 0.8897282958464059\n",
      "\n",
      "Среднее df_2 : 95.13406669624419\n",
      "RMSE модели df_2 : 39.80366055241555\n",
      "\n"
     ]
    }
   ],
   "source": [
    "best_model_list = [data_dict['pipelines'][k] for k in range(3)]\n",
    "pred_list = [best_model_list[i].predict(data_dict['valid'][i][0]) for i in range(3)]\n",
    "true_list = [data_dict['valid'][i][1] for i in range(3)]\n",
    "rmse_list = [mean_squared_error(data_dict['valid'][i][1], pred_list[i])**0.5 for i in range(3)]\n",
    "\n",
    "for i in range(3):\n",
    "    print(f\"Среднее df_{i} : {pred_list[i].mean()}\")\n",
    "    print(f\"RMSE модели df_{i} : {rmse_list[i]}\")\n",
    "    print()"
   ]
  },
  {
   "cell_type": "markdown",
   "metadata": {},
   "source": [
    "df_0 : Среднее находится на втором месте, ошибка также на втором<br>\n",
    "df_1 : Среднее находится на последнем месте, в то время как ошибка практически нулевая<br>\n",
    "df_2 : Среднее накходтся на первом месте, как и ошибка"
   ]
  },
  {
   "cell_type": "markdown",
   "metadata": {},
   "source": [
    "## Подготовка к расчёту прибыли"
   ]
  },
  {
   "cell_type": "code",
   "execution_count": 16,
   "metadata": {},
   "outputs": [],
   "source": [
    "max_points = 500\n",
    "points = 200\n",
    "price = 450000\n",
    "budget = 10 ** 10"
   ]
  },
  {
   "cell_type": "code",
   "execution_count": 17,
   "metadata": {
    "scrolled": true
   },
   "outputs": [
    {
     "name": "stdout",
     "output_type": "stream",
     "text": [
      "111.11111111111111\n"
     ]
    }
   ],
   "source": [
    "botton_stock = budget / points / price\n",
    "print(botton_stock)"
   ]
  },
  {
   "cell_type": "markdown",
   "metadata": {},
   "source": [
    "Для того, чтобы месторождение было неубыточным, достаточно, чтобы оно содержало не меньше 111 единиц"
   ]
  },
  {
   "cell_type": "code",
   "execution_count": 18,
   "metadata": {},
   "outputs": [
    {
     "name": "stdout",
     "output_type": "stream",
     "text": [
      "В df_0 процент безубыточных скважин : 36.55%\n",
      "В df_1 процент безубыточных скважин : 16.52%\n",
      "В df_2 процент безубыточных скважин : 37.99%\n"
     ]
    }
   ],
   "source": [
    "for i in range(len(array_frame)):\n",
    "    print(f\"В df_{i} процент безубыточных скважин : {round((array_frame[i]['product'] >= 111.10).sum() / array_frame[i].shape[0] * 100, 2)}%\")"
   ]
  },
  {
   "cell_type": "markdown",
   "metadata": {},
   "source": [
    "Как и ожидалось, третий регион может оказаться самым прибыльным, потом с небольшим отставанием первый, и меньше почти в два споловиной раза идёт второй регион"
   ]
  },
  {
   "cell_type": "code",
   "execution_count": 19,
   "metadata": {},
   "outputs": [],
   "source": [
    "def income(predictions, true_target):\n",
    "    predictions_sort = pd.Series(predictions).sort_values(ascending=False)[:points]\n",
    "    true_target_sort = true_target.reset_index(drop=True)[predictions_sort.index]\n",
    "    return true_target_sort.sum() * price - budget"
   ]
  },
  {
   "cell_type": "markdown",
   "metadata": {},
   "source": [
    "## Расчёт прибыли и рисков "
   ]
  },
  {
   "cell_type": "code",
   "execution_count": 20,
   "metadata": {},
   "outputs": [
    {
     "name": "stdout",
     "output_type": "stream",
     "text": [
      "Прибыль с 200 лучших скважин в df_0 : 3346905536.45\n",
      "Прибыль с 200 лучших скважин в df_1 : 2415086696.68\n",
      "Прибыль с 200 лучших скважин в df_2 : 2440342581.83\n"
     ]
    }
   ],
   "source": [
    "for i in range(3):\n",
    "    print(f\"Прибыль с 200 лучших скважин в df_{i} : {round(income(pred_list[i], true_list[i]), 2)}\")"
   ]
  },
  {
   "cell_type": "code",
   "execution_count": 21,
   "metadata": {},
   "outputs": [],
   "source": [
    "def confidense_interval(true_target, predictions):\n",
    "    samples = []\n",
    "    \n",
    "    for _ in range(1000):\n",
    "        sample = pd.Series(predictions).sample(n=max_points, replace=True, random_state=state)\n",
    "        samples.append(income(sample, true_target))\n",
    "    samples = pd.Series(samples)\n",
    "    lower = samples.quantile(0.25)\n",
    "    upper = samples.quantile(0.75)\n",
    "    return round(lower, 2), round(upper, 2)"
   ]
  },
  {
   "cell_type": "code",
   "execution_count": 22,
   "metadata": {},
   "outputs": [],
   "source": [
    "def risk_mean(true_target, predictions):\n",
    "    samples = []\n",
    "    \n",
    "    for _ in range(1000):\n",
    "        sample = pd.Series(predictions).sample(n=max_points, replace=True, random_state=state)\n",
    "        samples.append(income(sample, true_target))\n",
    "    samples = pd.Series(samples)\n",
    "    return (samples < 0).sum() / len(samples) * 100, samples.mean()"
   ]
  },
  {
   "cell_type": "code",
   "execution_count": 23,
   "metadata": {
    "scrolled": true
   },
   "outputs": [
    {
     "name": "stdout",
     "output_type": "stream",
     "text": [
      "Средняя прибыль для df_0 : 365761564.95754075\n",
      "Риск для df_0 : 9.1%\n",
      "Доверительный интервал для df_0 : (182698011.18, 560671518.23)\n",
      "\n",
      "Средняя прибыль для df_1 : 427584017.13318336\n",
      "Риск для df_1 : 1.6%\n",
      "Доверительный интервал для df_1 : (282923066.18, 559230274.99)\n",
      "\n",
      "Средняя прибыль для df_2 : 327912655.15026456\n",
      "Риск для df_2 : 10.8%\n",
      "Доверительный интервал для df_2 : (137736161.04, 486542103.94)\n",
      "\n"
     ]
    }
   ],
   "source": [
    "for i in range(3):\n",
    "    risk, mean = risk_mean(true_list[i], pred_list[i])\n",
    "    low, up = confidense_interval(true_list[i], pred_list[i])\n",
    "    print(f\"Средняя прибыль для df_{i} : {mean}\")\n",
    "    print(f\"Риск для df_{i} : {round(risk, 2)}%\")\n",
    "    print(f\"Доверительный интервал для df_{i} : ({low}, {up})\")\n",
    "    print()"
   ]
  },
  {
   "cell_type": "markdown",
   "metadata": {},
   "source": [
    "## Вывод"
   ]
  },
  {
   "cell_type": "markdown",
   "metadata": {},
   "source": [
    "В качестве заключения работы, лучше всех себя показал себя второй регион<br>\n",
    "Он имеет минимальный риск, равный 1.8%, что делает его единственным претендентом, согласно условию проекта.<br>\n",
    "Приблизительная прибыль в этом регионе составляет 433663366, а истинная прибыль с вероятностью 95% лежит в интервале (277216231.49, 582042063.8)"
   ]
  },
  {
   "cell_type": "markdown",
   "metadata": {},
   "source": [
    "## Чек-лист готовности проекта"
   ]
  },
  {
   "cell_type": "markdown",
   "metadata": {},
   "source": [
    "Поставьте 'x' в выполненных пунктах. Далее нажмите Shift+Enter."
   ]
  },
  {
   "cell_type": "markdown",
   "metadata": {},
   "source": [
    "- [x]  Jupyter Notebook открыт\n",
    "- [x]  Весь код выполняется без ошибок\n",
    "- [x]  Ячейки с кодом расположены в порядке исполнения\n",
    "- [x]  Выполнен шаг 1: данные подготовлены\n",
    "- [x]  Выполнен шаг 2: модели обучены и проверены\n",
    "    - [x]  Данные корректно разбиты на обучающую и валидационную выборки\n",
    "    - [x]  Модели обучены, предсказания сделаны\n",
    "    - [x]  Предсказания и правильные ответы на валидационной выборке сохранены\n",
    "    - [x]  На экране напечатаны результаты\n",
    "    - [x]  Сделаны выводы\n",
    "- [x]  Выполнен шаг 3: проведена подготовка к расчёту прибыли\n",
    "    - [x]  Для всех ключевых значений созданы константы Python\n",
    "    - [x]  Посчитано минимальное среднее количество продукта в месторождениях региона, достаточное для разработки\n",
    "    - [x]  По предыдущему пункту сделаны выводы\n",
    "    - [x]  Написана функция расчёта прибыли\n",
    "- [x]  Выполнен шаг 4: посчитаны риски и прибыль\n",
    "    - [x]  Проведена процедура *Bootstrap*\n",
    "    - [x]  Все параметры бутстрепа соответствуют условию\n",
    "    - [x]  Найдены все нужные величины\n",
    "    - [x]  Предложен регион для разработки месторождения\n",
    "    - [x]  Выбор региона обоснован"
   ]
  }
 ],
 "metadata": {
  "ExecuteTimeLog": [
   {
    "duration": 441,
    "start_time": "2022-12-22T02:51:25.481Z"
   },
   {
    "duration": 813,
    "start_time": "2022-12-22T02:54:45.527Z"
   },
   {
    "duration": 22,
    "start_time": "2022-12-22T02:54:56.526Z"
   },
   {
    "duration": 20,
    "start_time": "2022-12-22T02:55:17.819Z"
   },
   {
    "duration": 22,
    "start_time": "2022-12-22T02:55:27.241Z"
   },
   {
    "duration": 11,
    "start_time": "2022-12-22T02:55:40.936Z"
   },
   {
    "duration": 11,
    "start_time": "2022-12-22T02:55:46.370Z"
   },
   {
    "duration": 21,
    "start_time": "2022-12-22T02:55:51.993Z"
   },
   {
    "duration": 9,
    "start_time": "2022-12-22T02:56:55.726Z"
   },
   {
    "duration": 10,
    "start_time": "2022-12-22T02:57:06.164Z"
   },
   {
    "duration": 3,
    "start_time": "2022-12-22T02:59:54.460Z"
   },
   {
    "duration": 11,
    "start_time": "2022-12-22T03:01:46.054Z"
   },
   {
    "duration": 19,
    "start_time": "2022-12-22T03:01:59.363Z"
   },
   {
    "duration": 1015,
    "start_time": "2022-12-24T19:24:08.261Z"
   },
   {
    "duration": 730,
    "start_time": "2022-12-24T19:24:09.278Z"
   },
   {
    "duration": 19,
    "start_time": "2022-12-24T19:24:10.009Z"
   },
   {
    "duration": 13,
    "start_time": "2022-12-24T19:24:10.030Z"
   },
   {
    "duration": 20,
    "start_time": "2022-12-24T19:24:10.045Z"
   },
   {
    "duration": 15,
    "start_time": "2022-12-24T19:24:10.193Z"
   },
   {
    "duration": 9,
    "start_time": "2022-12-24T19:24:11.008Z"
   },
   {
    "duration": 9,
    "start_time": "2022-12-24T19:24:13.655Z"
   },
   {
    "duration": 3,
    "start_time": "2022-12-24T19:24:21.305Z"
   },
   {
    "duration": 15,
    "start_time": "2022-12-24T19:24:51.415Z"
   },
   {
    "duration": 3,
    "start_time": "2022-12-24T19:25:11.844Z"
   },
   {
    "duration": 3,
    "start_time": "2022-12-24T19:25:22.084Z"
   },
   {
    "duration": 103,
    "start_time": "2022-12-24T19:33:57.231Z"
   },
   {
    "duration": 392,
    "start_time": "2022-12-24T19:34:17.638Z"
   },
   {
    "duration": 22,
    "start_time": "2022-12-24T19:34:21.946Z"
   },
   {
    "duration": 958,
    "start_time": "2022-12-24T19:34:39.213Z"
   },
   {
    "duration": 4,
    "start_time": "2022-12-24T19:43:44.848Z"
   },
   {
    "duration": 20,
    "start_time": "2022-12-24T20:56:32.775Z"
   },
   {
    "duration": 5,
    "start_time": "2022-12-24T20:57:28.449Z"
   },
   {
    "duration": 14,
    "start_time": "2022-12-24T20:57:29.622Z"
   },
   {
    "duration": 4,
    "start_time": "2022-12-24T20:57:59.724Z"
   },
   {
    "duration": 14,
    "start_time": "2022-12-24T20:58:00.133Z"
   },
   {
    "duration": 5,
    "start_time": "2022-12-24T20:59:42.881Z"
   },
   {
    "duration": 25,
    "start_time": "2022-12-24T20:59:43.347Z"
   },
   {
    "duration": 5,
    "start_time": "2022-12-24T21:01:14.395Z"
   },
   {
    "duration": 791,
    "start_time": "2022-12-24T21:01:15.030Z"
   },
   {
    "duration": 2289,
    "start_time": "2022-12-24T21:01:30.013Z"
   },
   {
    "duration": 2338,
    "start_time": "2022-12-24T21:02:16.772Z"
   },
   {
    "duration": 6857,
    "start_time": "2022-12-24T21:02:35.964Z"
   },
   {
    "duration": 6877,
    "start_time": "2022-12-24T21:02:49.704Z"
   },
   {
    "duration": 6780,
    "start_time": "2022-12-24T21:03:02.555Z"
   },
   {
    "duration": 6801,
    "start_time": "2022-12-24T21:03:21.087Z"
   },
   {
    "duration": 9,
    "start_time": "2022-12-24T21:05:31.513Z"
   },
   {
    "duration": 4,
    "start_time": "2022-12-24T21:05:37.858Z"
   },
   {
    "duration": 5,
    "start_time": "2022-12-24T21:05:46.943Z"
   },
   {
    "duration": 7,
    "start_time": "2022-12-24T21:06:03.310Z"
   },
   {
    "duration": 5,
    "start_time": "2022-12-24T21:06:46.728Z"
   },
   {
    "duration": 3,
    "start_time": "2022-12-24T21:08:24.831Z"
   },
   {
    "duration": 418,
    "start_time": "2022-12-24T21:08:25.477Z"
   },
   {
    "duration": 20,
    "start_time": "2022-12-24T21:08:25.896Z"
   },
   {
    "duration": 18,
    "start_time": "2022-12-24T21:08:26.285Z"
   },
   {
    "duration": 14,
    "start_time": "2022-12-24T21:08:26.793Z"
   },
   {
    "duration": 10,
    "start_time": "2022-12-24T21:08:27.239Z"
   },
   {
    "duration": 10,
    "start_time": "2022-12-24T21:08:27.686Z"
   },
   {
    "duration": 10,
    "start_time": "2022-12-24T21:08:28.219Z"
   },
   {
    "duration": 915,
    "start_time": "2022-12-24T21:08:28.790Z"
   },
   {
    "duration": 4,
    "start_time": "2022-12-24T21:08:29.927Z"
   },
   {
    "duration": 7046,
    "start_time": "2022-12-24T21:08:30.419Z"
   },
   {
    "duration": 4,
    "start_time": "2022-12-24T21:08:37.467Z"
   },
   {
    "duration": 2,
    "start_time": "2022-12-24T21:08:45.067Z"
   },
   {
    "duration": 8,
    "start_time": "2022-12-24T21:08:45.902Z"
   },
   {
    "duration": 52,
    "start_time": "2022-12-24T23:08:31.183Z"
   },
   {
    "duration": 1740,
    "start_time": "2022-12-24T23:08:37.435Z"
   },
   {
    "duration": 2281,
    "start_time": "2022-12-24T23:08:39.177Z"
   },
   {
    "duration": 24,
    "start_time": "2022-12-24T23:08:41.459Z"
   },
   {
    "duration": 24,
    "start_time": "2022-12-24T23:08:41.485Z"
   },
   {
    "duration": 16,
    "start_time": "2022-12-24T23:08:41.511Z"
   },
   {
    "duration": 42,
    "start_time": "2022-12-24T23:08:41.529Z"
   },
   {
    "duration": 12,
    "start_time": "2022-12-24T23:08:41.575Z"
   },
   {
    "duration": 11,
    "start_time": "2022-12-24T23:08:41.588Z"
   },
   {
    "duration": 1116,
    "start_time": "2022-12-24T23:08:41.601Z"
   },
   {
    "duration": 4,
    "start_time": "2022-12-24T23:08:42.720Z"
   },
   {
    "duration": 8358,
    "start_time": "2022-12-24T23:08:42.726Z"
   },
   {
    "duration": 6,
    "start_time": "2022-12-24T23:08:51.086Z"
   },
   {
    "duration": 112,
    "start_time": "2022-12-24T23:08:51.094Z"
   },
   {
    "duration": 20,
    "start_time": "2022-12-24T23:08:51.208Z"
   },
   {
    "duration": 90,
    "start_time": "2022-12-24T23:09:57.251Z"
   },
   {
    "duration": 21,
    "start_time": "2022-12-24T23:10:05.583Z"
   },
   {
    "duration": 100,
    "start_time": "2022-12-24T23:10:19.086Z"
   },
   {
    "duration": 18,
    "start_time": "2022-12-24T23:10:21.625Z"
   },
   {
    "duration": 15,
    "start_time": "2022-12-24T23:10:57.185Z"
   },
   {
    "duration": 16,
    "start_time": "2022-12-24T23:11:18.491Z"
   },
   {
    "duration": 37,
    "start_time": "2022-12-24T23:11:39.581Z"
   },
   {
    "duration": 4,
    "start_time": "2022-12-24T23:12:12.383Z"
   },
   {
    "duration": 1625,
    "start_time": "2022-12-24T23:13:02.593Z"
   },
   {
    "duration": 10,
    "start_time": "2022-12-24T23:13:15.957Z"
   },
   {
    "duration": 534,
    "start_time": "2022-12-24T23:13:16.385Z"
   },
   {
    "duration": 17,
    "start_time": "2022-12-24T23:13:16.922Z"
   },
   {
    "duration": 19,
    "start_time": "2022-12-24T23:13:16.985Z"
   },
   {
    "duration": 24,
    "start_time": "2022-12-24T23:13:17.199Z"
   },
   {
    "duration": 12,
    "start_time": "2022-12-24T23:13:21.788Z"
   },
   {
    "duration": 23,
    "start_time": "2022-12-24T23:13:21.802Z"
   },
   {
    "duration": 31,
    "start_time": "2022-12-24T23:13:21.827Z"
   },
   {
    "duration": 1403,
    "start_time": "2022-12-24T23:13:21.867Z"
   },
   {
    "duration": 5,
    "start_time": "2022-12-24T23:13:26.491Z"
   },
   {
    "duration": 9321,
    "start_time": "2022-12-24T23:13:28.624Z"
   },
   {
    "duration": 9568,
    "start_time": "2022-12-24T23:13:41.690Z"
   },
   {
    "duration": 13,
    "start_time": "2022-12-24T23:13:55.708Z"
   },
   {
    "duration": 3,
    "start_time": "2022-12-24T23:14:03.392Z"
   },
   {
    "duration": 497,
    "start_time": "2022-12-24T23:14:03.813Z"
   },
   {
    "duration": 22,
    "start_time": "2022-12-24T23:14:04.313Z"
   },
   {
    "duration": 18,
    "start_time": "2022-12-24T23:14:04.410Z"
   },
   {
    "duration": 16,
    "start_time": "2022-12-24T23:14:04.491Z"
   },
   {
    "duration": 14,
    "start_time": "2022-12-24T23:14:04.689Z"
   },
   {
    "duration": 14,
    "start_time": "2022-12-24T23:14:05.024Z"
   },
   {
    "duration": 19,
    "start_time": "2022-12-24T23:14:05.493Z"
   },
   {
    "duration": 1202,
    "start_time": "2022-12-24T23:14:06.317Z"
   },
   {
    "duration": 5,
    "start_time": "2022-12-24T23:14:08.507Z"
   },
   {
    "duration": 9232,
    "start_time": "2022-12-24T23:14:08.994Z"
   },
   {
    "duration": 11,
    "start_time": "2022-12-24T23:14:23.431Z"
   },
   {
    "duration": 12,
    "start_time": "2022-12-24T23:14:41.822Z"
   },
   {
    "duration": 2954,
    "start_time": "2022-12-24T23:15:00.290Z"
   },
   {
    "duration": 8611,
    "start_time": "2022-12-24T23:15:38.200Z"
   },
   {
    "duration": 49,
    "start_time": "2022-12-24T23:15:49.270Z"
   },
   {
    "duration": 4,
    "start_time": "2022-12-24T23:15:58.485Z"
   },
   {
    "duration": 16,
    "start_time": "2022-12-24T23:16:13.530Z"
   },
   {
    "duration": 27,
    "start_time": "2022-12-24T23:16:30.144Z"
   },
   {
    "duration": 17,
    "start_time": "2022-12-24T23:16:40.733Z"
   },
   {
    "duration": 419,
    "start_time": "2022-12-24T23:16:58.328Z"
   },
   {
    "duration": 28,
    "start_time": "2022-12-24T23:17:08.572Z"
   },
   {
    "duration": 1286,
    "start_time": "2022-12-24T23:17:25.097Z"
   },
   {
    "duration": 3,
    "start_time": "2022-12-24T23:17:36.216Z"
   },
   {
    "duration": 418,
    "start_time": "2022-12-24T23:17:36.781Z"
   },
   {
    "duration": 15,
    "start_time": "2022-12-24T23:17:37.201Z"
   },
   {
    "duration": 15,
    "start_time": "2022-12-24T23:17:37.412Z"
   },
   {
    "duration": 16,
    "start_time": "2022-12-24T23:17:37.812Z"
   },
   {
    "duration": 9,
    "start_time": "2022-12-24T23:17:38.129Z"
   },
   {
    "duration": 10,
    "start_time": "2022-12-24T23:17:38.484Z"
   },
   {
    "duration": 10,
    "start_time": "2022-12-24T23:17:38.813Z"
   },
   {
    "duration": 1132,
    "start_time": "2022-12-24T23:17:39.190Z"
   },
   {
    "duration": 4,
    "start_time": "2022-12-24T23:17:40.479Z"
   },
   {
    "duration": 8041,
    "start_time": "2022-12-24T23:17:40.924Z"
   },
   {
    "duration": 14,
    "start_time": "2022-12-24T23:17:48.972Z"
   },
   {
    "duration": 30,
    "start_time": "2022-12-24T23:17:48.988Z"
   },
   {
    "duration": 3,
    "start_time": "2022-12-24T23:17:49.021Z"
   },
   {
    "duration": 4,
    "start_time": "2022-12-24T23:31:39.081Z"
   },
   {
    "duration": 5,
    "start_time": "2022-12-24T23:32:28.380Z"
   },
   {
    "duration": 430,
    "start_time": "2022-12-24T23:37:54.733Z"
   },
   {
    "duration": 4,
    "start_time": "2022-12-24T23:38:21.184Z"
   },
   {
    "duration": 1568,
    "start_time": "2022-12-25T11:12:58.996Z"
   },
   {
    "duration": 1617,
    "start_time": "2022-12-25T11:13:00.567Z"
   },
   {
    "duration": 19,
    "start_time": "2022-12-25T11:13:02.186Z"
   },
   {
    "duration": 42,
    "start_time": "2022-12-25T11:13:02.208Z"
   },
   {
    "duration": 27,
    "start_time": "2022-12-25T11:13:02.252Z"
   },
   {
    "duration": 33,
    "start_time": "2022-12-25T11:13:02.281Z"
   },
   {
    "duration": 39,
    "start_time": "2022-12-25T11:13:02.316Z"
   },
   {
    "duration": 47,
    "start_time": "2022-12-25T11:13:02.356Z"
   },
   {
    "duration": 986,
    "start_time": "2022-12-25T11:13:04.992Z"
   },
   {
    "duration": 4,
    "start_time": "2022-12-25T11:13:05.980Z"
   },
   {
    "duration": 7994,
    "start_time": "2022-12-25T11:13:05.985Z"
   },
   {
    "duration": 5,
    "start_time": "2022-12-25T11:13:13.981Z"
   },
   {
    "duration": 44,
    "start_time": "2022-12-25T11:13:13.987Z"
   },
   {
    "duration": 360,
    "start_time": "2022-12-25T11:13:22.578Z"
   },
   {
    "duration": 5,
    "start_time": "2022-12-25T11:13:23.023Z"
   },
   {
    "duration": 145,
    "start_time": "2022-12-25T11:20:56.095Z"
   },
   {
    "duration": 18,
    "start_time": "2022-12-25T11:21:22.400Z"
   },
   {
    "duration": 4,
    "start_time": "2022-12-25T11:23:17.966Z"
   },
   {
    "duration": 363,
    "start_time": "2022-12-25T11:23:18.374Z"
   },
   {
    "duration": 13,
    "start_time": "2022-12-25T11:23:18.739Z"
   },
   {
    "duration": 13,
    "start_time": "2022-12-25T11:23:18.800Z"
   },
   {
    "duration": 15,
    "start_time": "2022-12-25T11:23:19.017Z"
   },
   {
    "duration": 10,
    "start_time": "2022-12-25T11:23:19.299Z"
   },
   {
    "duration": 9,
    "start_time": "2022-12-25T11:23:19.595Z"
   },
   {
    "duration": 11,
    "start_time": "2022-12-25T11:23:19.874Z"
   },
   {
    "duration": 936,
    "start_time": "2022-12-25T11:23:20.165Z"
   },
   {
    "duration": 4,
    "start_time": "2022-12-25T11:23:23.638Z"
   },
   {
    "duration": 7898,
    "start_time": "2022-12-25T11:23:23.644Z"
   },
   {
    "duration": 5,
    "start_time": "2022-12-25T11:23:31.544Z"
   },
   {
    "duration": 33,
    "start_time": "2022-12-25T11:23:31.550Z"
   },
   {
    "duration": 536,
    "start_time": "2022-12-25T11:23:31.585Z"
   },
   {
    "duration": 15,
    "start_time": "2022-12-25T11:23:33.858Z"
   },
   {
    "duration": 407,
    "start_time": "2022-12-25T11:24:02.525Z"
   },
   {
    "duration": 14,
    "start_time": "2022-12-25T11:24:06.247Z"
   },
   {
    "duration": 362,
    "start_time": "2022-12-25T11:25:27.761Z"
   },
   {
    "duration": 14,
    "start_time": "2022-12-25T11:25:31.198Z"
   },
   {
    "duration": 62,
    "start_time": "2022-12-25T11:25:42.266Z"
   },
   {
    "duration": 4,
    "start_time": "2022-12-25T11:58:23.864Z"
   },
   {
    "duration": 9,
    "start_time": "2022-12-25T11:59:17.138Z"
   },
   {
    "duration": 4,
    "start_time": "2022-12-25T11:59:29.928Z"
   },
   {
    "duration": 9,
    "start_time": "2022-12-25T12:07:16.623Z"
   },
   {
    "duration": 138,
    "start_time": "2022-12-25T12:07:37.782Z"
   },
   {
    "duration": 270,
    "start_time": "2022-12-25T12:08:21.853Z"
   },
   {
    "duration": 94,
    "start_time": "2022-12-25T12:08:37.830Z"
   },
   {
    "duration": 6,
    "start_time": "2022-12-25T12:08:46.849Z"
   },
   {
    "duration": 6,
    "start_time": "2022-12-25T12:08:59.782Z"
   },
   {
    "duration": 7,
    "start_time": "2022-12-25T12:09:10.251Z"
   },
   {
    "duration": 7,
    "start_time": "2022-12-25T12:09:33.779Z"
   },
   {
    "duration": 5,
    "start_time": "2022-12-25T12:09:40.399Z"
   },
   {
    "duration": 75,
    "start_time": "2022-12-25T12:11:52.497Z"
   },
   {
    "duration": 4,
    "start_time": "2022-12-25T12:20:34.206Z"
   },
   {
    "duration": 9,
    "start_time": "2022-12-25T12:23:10.955Z"
   },
   {
    "duration": 58,
    "start_time": "2022-12-25T12:23:15.979Z"
   },
   {
    "duration": 15,
    "start_time": "2022-12-25T12:23:46.250Z"
   },
   {
    "duration": 3,
    "start_time": "2022-12-25T12:23:50.475Z"
   },
   {
    "duration": 3,
    "start_time": "2022-12-25T12:23:50.799Z"
   },
   {
    "duration": 6,
    "start_time": "2022-12-25T12:23:53.169Z"
   },
   {
    "duration": 6,
    "start_time": "2022-12-25T12:23:54.559Z"
   },
   {
    "duration": 18,
    "start_time": "2022-12-25T12:23:56.335Z"
   },
   {
    "duration": 4,
    "start_time": "2022-12-25T12:24:44.401Z"
   },
   {
    "duration": 22,
    "start_time": "2022-12-25T12:24:46.155Z"
   },
   {
    "duration": 3,
    "start_time": "2022-12-25T12:25:16.983Z"
   },
   {
    "duration": 23,
    "start_time": "2022-12-25T12:25:19.363Z"
   },
   {
    "duration": 4,
    "start_time": "2022-12-25T12:25:31.773Z"
   },
   {
    "duration": 16,
    "start_time": "2022-12-25T12:25:33.836Z"
   },
   {
    "duration": 8,
    "start_time": "2022-12-25T12:25:54.911Z"
   },
   {
    "duration": 19,
    "start_time": "2022-12-25T12:25:58.320Z"
   },
   {
    "duration": 4,
    "start_time": "2022-12-25T13:39:08.317Z"
   },
   {
    "duration": 4,
    "start_time": "2022-12-25T13:41:50.597Z"
   },
   {
    "duration": 22,
    "start_time": "2022-12-25T13:45:18.821Z"
   },
   {
    "duration": 4,
    "start_time": "2022-12-25T13:45:46.523Z"
   },
   {
    "duration": 349,
    "start_time": "2022-12-25T13:45:46.991Z"
   },
   {
    "duration": 15,
    "start_time": "2022-12-25T13:45:47.342Z"
   },
   {
    "duration": 14,
    "start_time": "2022-12-25T13:45:47.535Z"
   },
   {
    "duration": 15,
    "start_time": "2022-12-25T13:45:47.950Z"
   },
   {
    "duration": 12,
    "start_time": "2022-12-25T13:45:48.343Z"
   },
   {
    "duration": 9,
    "start_time": "2022-12-25T13:45:48.693Z"
   },
   {
    "duration": 11,
    "start_time": "2022-12-25T13:45:49.047Z"
   },
   {
    "duration": 987,
    "start_time": "2022-12-25T13:45:49.656Z"
   },
   {
    "duration": 8,
    "start_time": "2022-12-25T13:45:50.671Z"
   },
   {
    "duration": 8296,
    "start_time": "2022-12-25T13:45:53.922Z"
   },
   {
    "duration": 5,
    "start_time": "2022-12-25T13:46:02.221Z"
   },
   {
    "duration": 41,
    "start_time": "2022-12-25T13:46:02.227Z"
   },
   {
    "duration": 516,
    "start_time": "2022-12-25T13:46:06.105Z"
   },
   {
    "duration": 15,
    "start_time": "2022-12-25T13:46:06.877Z"
   },
   {
    "duration": 3,
    "start_time": "2022-12-25T13:46:10.644Z"
   },
   {
    "duration": 4,
    "start_time": "2022-12-25T13:46:11.456Z"
   },
   {
    "duration": 6,
    "start_time": "2022-12-25T13:46:14.068Z"
   },
   {
    "duration": 3,
    "start_time": "2022-12-25T13:46:15.079Z"
   },
   {
    "duration": 14,
    "start_time": "2022-12-25T13:46:16.496Z"
   },
   {
    "duration": 6,
    "start_time": "2022-12-25T13:46:26.205Z"
   },
   {
    "duration": 5,
    "start_time": "2022-12-25T13:46:27.025Z"
   },
   {
    "duration": 985,
    "start_time": "2022-12-25T13:46:41.982Z"
   },
   {
    "duration": 5,
    "start_time": "2022-12-25T13:47:14.171Z"
   },
   {
    "duration": 2205,
    "start_time": "2022-12-25T13:47:15.932Z"
   },
   {
    "duration": 5,
    "start_time": "2022-12-25T13:47:25.989Z"
   },
   {
    "duration": 6269,
    "start_time": "2022-12-25T13:47:28.239Z"
   },
   {
    "duration": 4,
    "start_time": "2022-12-25T13:47:57.636Z"
   },
   {
    "duration": 6261,
    "start_time": "2022-12-25T13:48:10.920Z"
   },
   {
    "duration": 6101,
    "start_time": "2022-12-25T13:48:38.730Z"
   },
   {
    "duration": 3057,
    "start_time": "2022-12-26T08:04:53.999Z"
   },
   {
    "duration": 10,
    "start_time": "2022-12-26T08:05:23.197Z"
   },
   {
    "duration": 5,
    "start_time": "2022-12-26T08:06:10.539Z"
   },
   {
    "duration": 5,
    "start_time": "2022-12-26T08:06:44.086Z"
   },
   {
    "duration": 5,
    "start_time": "2022-12-26T08:06:53.504Z"
   },
   {
    "duration": 5,
    "start_time": "2022-12-26T08:06:59.709Z"
   },
   {
    "duration": 1837,
    "start_time": "2022-12-26T08:08:03.530Z"
   },
   {
    "duration": 1461,
    "start_time": "2022-12-26T08:08:05.370Z"
   },
   {
    "duration": 17,
    "start_time": "2022-12-26T08:08:06.832Z"
   },
   {
    "duration": 13,
    "start_time": "2022-12-26T08:08:06.851Z"
   },
   {
    "duration": 14,
    "start_time": "2022-12-26T08:08:06.866Z"
   },
   {
    "duration": 29,
    "start_time": "2022-12-26T08:08:06.882Z"
   },
   {
    "duration": 9,
    "start_time": "2022-12-26T08:08:06.912Z"
   },
   {
    "duration": 15,
    "start_time": "2022-12-26T08:08:06.922Z"
   },
   {
    "duration": 934,
    "start_time": "2022-12-26T08:08:06.938Z"
   },
   {
    "duration": 4,
    "start_time": "2022-12-26T08:08:07.874Z"
   },
   {
    "duration": 6753,
    "start_time": "2022-12-26T08:08:07.880Z"
   },
   {
    "duration": 4,
    "start_time": "2022-12-26T08:08:14.634Z"
   },
   {
    "duration": 110,
    "start_time": "2022-12-26T08:08:14.640Z"
   },
   {
    "duration": 362,
    "start_time": "2022-12-26T08:08:14.751Z"
   },
   {
    "duration": 196,
    "start_time": "2022-12-26T08:08:15.115Z"
   },
   {
    "duration": 101,
    "start_time": "2022-12-26T08:08:15.312Z"
   },
   {
    "duration": 87,
    "start_time": "2022-12-26T08:08:15.418Z"
   },
   {
    "duration": 11,
    "start_time": "2022-12-26T08:08:15.507Z"
   },
   {
    "duration": 4,
    "start_time": "2022-12-26T08:08:15.519Z"
   },
   {
    "duration": 22,
    "start_time": "2022-12-26T08:08:15.524Z"
   },
   {
    "duration": 4,
    "start_time": "2022-12-26T08:08:15.547Z"
   },
   {
    "duration": 9,
    "start_time": "2022-12-26T08:08:15.553Z"
   },
   {
    "duration": 5352,
    "start_time": "2022-12-26T08:08:15.564Z"
   },
   {
    "duration": 3,
    "start_time": "2022-12-26T08:12:15.932Z"
   },
   {
    "duration": 77,
    "start_time": "2022-12-26T08:33:54.026Z"
   },
   {
    "duration": 24578,
    "start_time": "2022-12-26T08:34:10.036Z"
   }
  ],
  "kernelspec": {
   "display_name": "Python 3 (ipykernel)",
   "language": "python",
   "name": "python3"
  },
  "language_info": {
   "codemirror_mode": {
    "name": "ipython",
    "version": 3
   },
   "file_extension": ".py",
   "mimetype": "text/x-python",
   "name": "python",
   "nbconvert_exporter": "python",
   "pygments_lexer": "ipython3",
   "version": "3.9.12"
  },
  "toc": {
   "base_numbering": 1,
   "nav_menu": {},
   "number_sections": true,
   "sideBar": true,
   "skip_h1_title": true,
   "title_cell": "Table of Contents",
   "title_sidebar": "Contents",
   "toc_cell": false,
   "toc_position": {},
   "toc_section_display": true,
   "toc_window_display": true
  }
 },
 "nbformat": 4,
 "nbformat_minor": 2
}
